{
 "cells": [
  {
   "cell_type": "code",
   "execution_count": null,
   "metadata": {},
   "outputs": [],
   "source": [
    "import torch\n",
    "\n",
    "B = 32\n",
    "T = 16\n",
    "D = 7\n",
    "max_n_obs_steps = 3\n",
    "\n",
    "obs_steps = torch.randint(\n",
    "    low=1,\n",
    "    high=max_n_obs_steps + 1,\n",
    "    size=(B,),\n",
    ")\n",
    "\n",
    "steps = torch.arange(0, T).reshape(1, T).expand(B, T)\n",
    "steps.shape\n",
    "# obs_mask = obs_mask & is_obs_dim"
   ]
  },
  {
   "cell_type": "code",
   "execution_count": null,
   "metadata": {},
   "outputs": [],
   "source": [
    "(obs_steps > steps.T).T"
   ]
  },
  {
   "cell_type": "code",
   "execution_count": null,
   "metadata": {},
   "outputs": [],
   "source": [
    "obs_mask = (obs_steps > steps.T).T.reshape(B, T, 1).expand(B, T, D)\n",
    "obs_mask.shape"
   ]
  }
 ],
 "metadata": {
  "kernelspec": {
   "display_name": "Python 3",
   "language": "python",
   "name": "python3"
  },
  "language_info": {
   "codemirror_mode": {
    "name": "ipython",
    "version": 3
   },
   "file_extension": ".py",
   "mimetype": "text/x-python",
   "name": "python",
   "nbconvert_exporter": "python",
   "pygments_lexer": "ipython3",
   "version": "3.10.14"
  }
 },
 "nbformat": 4,
 "nbformat_minor": 2
}
