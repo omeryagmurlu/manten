{
 "cells": [
  {
   "cell_type": "code",
   "execution_count": null,
   "metadata": {},
   "outputs": [],
   "source": [
    "from manten.data.dataset_maniskill import ManiSkillDataset\n",
    "\n",
    "cameras = [\"camera1\", \"gripper1\"]\n",
    "# cameras = [\"camera1\"]\n",
    "dataset = ManiSkillDataset(\n",
    "    simulated_length=10000000,\n",
    "    test_ratio=0.05,\n",
    "    task=\"PegInsertionSide-v1\",\n",
    "    # task=\"PickCube-v1\",\n",
    "    pack_root=\"/home/i53/student/yagmurlu/code/manten/data/maniskill2/packed_demos\",\n",
    "    obs_horizon=2,\n",
    "    pred_horizon=16,\n",
    "    obs_mode=\"pointcloud\",\n",
    "    state_modality_keys=[\"tcp_pose\"],\n",
    "    rgb_modality_keys=cameras,\n",
    "    control_mode=\"pd_ee_target_delta_pose\",\n",
    "    # control_mode=\"pd_ee_delta_pose\",\n",
    "    use_mmap=True,\n",
    "    # use_mmap=False,\n",
    "    rotation_transform=\"rotation_6d\",\n",
    "    load_count=2,\n",
    ")\n",
    "\n",
    "# print(dataset[0])\n",
    "\n",
    "dataset_info = dataset.get_dataset_info()\n",
    "\n",
    "print(dataset_info)"
   ]
  },
  {
   "cell_type": "code",
   "execution_count": null,
   "metadata": {},
   "outputs": [],
   "source": [
    "from torch.utils.data import DataLoader\n",
    "\n",
    "# Create a dataloader with batch size 4\n",
    "batch_size = 4\n",
    "dataloader = DataLoader(\n",
    "    dataset, batch_size=batch_size, shuffle=True, num_workers=2, pin_memory=True\n",
    ")\n",
    "\n",
    "# Get a sample batch\n",
    "sample_batch = next(iter(dataloader))"
   ]
  },
  {
   "cell_type": "code",
   "execution_count": null,
   "metadata": {},
   "outputs": [],
   "source": [
    "import einops\n",
    "\n",
    "obs = sample_batch[\"observations\"]\n",
    "state_obs = obs[\"state_obs\"]\n",
    "pcd_obs = obs[\"pcd_obs\"]\n",
    "pcd_mask = obs[\"pcd_mask\"]\n",
    "rgb_obs = obs[\"rgb_obs\"]\n",
    "\n",
    "n_cam = len(pcd_obs)\n",
    "B, obs_h, C, H, W = next(iter(pcd_obs.values())).shape\n",
    "pcd_obs = einops.rearrange(list(pcd_obs.values()), \"cam b obs_h c h w -> b obs_h cam c h w\")\n",
    "pcd_mask = einops.rearrange(list(pcd_mask.values()), \"cam b obs_h c h w -> b obs_h cam c h w\")\n",
    "rgb_obs = einops.rearrange(list(rgb_obs.values()), \"cam b obs_h c h w -> b obs_h cam c h w\")\n",
    "\n",
    "# for now only use last observation\n",
    "pcd_obs = pcd_obs[:, -1]\n",
    "pcd_mask = pcd_mask[:, -1]\n",
    "rgb_obs = rgb_obs[:, -1]\n",
    "state_obs = state_obs[:, -1]"
   ]
  },
  {
   "cell_type": "code",
   "execution_count": null,
   "metadata": {},
   "outputs": [],
   "source": [
    "# encoder:\n",
    "# _target_: manten.agents.three_dda.encoder.Encoder\n",
    "# backbone: \"clip\"\n",
    "# image_size: [256, 256]\n",
    "# embedding_dim: ${..._embedding_dim}\n",
    "# num_sampling_level: 1\n",
    "# nhist: ${..._num_history}\n",
    "# num_vis_ins_attn_layers: 2\n",
    "# fps_subsampling_factor: 3\n",
    "\n",
    "from manten.networks.vendor.three_dda.encoder import Encoder\n",
    "\n",
    "# encoder = Encoder(\n",
    "#     backbone=\"clip\",\n",
    "#     image_size=(256, 256),\n",
    "#     embedding_dim=512,\n",
    "#     num_sampling_level=1,\n",
    "#     nhist=2,\n",
    "#     num_vis_ins_attn_layers=2,\n",
    "#     fps_subsampling_factor=3,\n",
    "# )\n",
    "encoder = Encoder(num_sampling_level=1)"
   ]
  },
  {
   "cell_type": "code",
   "execution_count": null,
   "metadata": {},
   "outputs": [],
   "source": [
    "rgb_feats_pyramid, pcd_pyramid, mask_pyramid = encoder.encode_images(\n",
    "    rgb_obs, pcd_obs, pcd_mask\n",
    ")"
   ]
  },
  {
   "cell_type": "code",
   "execution_count": null,
   "metadata": {},
   "outputs": [],
   "source": [
    "rpm_l = einops.rearrange(\n",
    "    [\n",
    "        rgb_feats_pyramid[0][..., :3],\n",
    "        pcd_pyramid[0],\n",
    "        mask_pyramid[0].expand(pcd_pyramid[0].shape),\n",
    "    ],\n",
    "    \"t b (nc h w) c -> b (nc h) (t w) c\",\n",
    "    nc=2,\n",
    "    h=16,\n",
    "    w=16,\n",
    ")\n",
    "0"
   ]
  }
 ],
 "metadata": {
  "kernelspec": {
   "display_name": "Python 3",
   "language": "python",
   "name": "python3"
  },
  "language_info": {
   "codemirror_mode": {
    "name": "ipython",
    "version": 3
   },
   "file_extension": ".py",
   "mimetype": "text/x-python",
   "name": "python",
   "nbconvert_exporter": "python",
   "pygments_lexer": "ipython3",
   "version": "3.10.14"
  }
 },
 "nbformat": 4,
 "nbformat_minor": 2
}
