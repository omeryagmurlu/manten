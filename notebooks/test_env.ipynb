{
 "cells": [
  {
   "cell_type": "code",
   "execution_count": null,
   "metadata": {},
   "outputs": [],
   "source": [
    "# create env\n",
    "import hydra\n",
    "from calvin_agent.evaluation.multistep_sequences import get_sequences\n",
    "from calvin_agent.evaluation.utils import get_env_state_for_initial_condition\n",
    "from hydra import compose, initialize\n",
    "from lightning_lite import seed_everything\n",
    "\n",
    "from manten_evaluation.calvin.evaluate_policy import make_env\n",
    "\n",
    "with initialize(config_path=\"../manten_evaluation/calvin/configs\"):\n",
    "    cfg = compose(config_name=\"evaluate_policy\")\n",
    "\n",
    "seed_everything(0, workers=True)\n",
    "\n",
    "env = make_env(cfg.dataset_path)"
   ]
  },
  {
   "cell_type": "code",
   "execution_count": null,
   "metadata": {},
   "outputs": [],
   "source": [
    "import pyhash\n",
    "from optree import tree_map\n",
    "\n",
    "hasher = pyhash.fnv1_64()\n",
    "teha = lambda y: tree_map(lambda x: hasher(str(x.tolist() if hasattr(x, \"tolist\") else x)), y)  # noqa: E731"
   ]
  },
  {
   "cell_type": "code",
   "execution_count": null,
   "metadata": {},
   "outputs": [],
   "source": [
    "import torch\n",
    "\n",
    "initial_state, eval_sequence = get_sequences(1)[0]\n",
    "\n",
    "robot_obs, scene_obs = get_env_state_for_initial_condition(initial_state)\n",
    "env.reset(robot_obs=robot_obs, scene_obs=scene_obs)\n",
    "\n",
    "obs_raw = env.get_obs()\n",
    "\n",
    "start_info = env.get_info()\n",
    "\n",
    "display(hasher(str(start_info)))\n",
    "# display(teha(obs_raw))\n",
    "display(hasher(str(teha(obs_raw))))\n",
    "\n",
    "obs = None\n",
    "goal = None\n",
    "\n",
    "\n",
    "class MockClient:\n",
    "    def __init__(self):\n",
    "        pass\n",
    "\n",
    "    def reset(self):\n",
    "        pass\n",
    "\n",
    "    def step(self, tobs, tgoal):\n",
    "        global obs  # noqa: PLW0603\n",
    "        global goal  # noqa: PLW0603\n",
    "        obs = tobs\n",
    "        goal = tgoal\n",
    "        return torch.rand(7)\n",
    "\n",
    "\n",
    "cfg.agent_proxy.client = None\n",
    "model = hydra.utils.instantiate(cfg.agent_proxy)\n",
    "model.client = MockClient()\n",
    "\n",
    "act = model.step(obs_raw, \"langinfo\")\n",
    "display(hasher(str(goal)))\n",
    "display(teha(obs))"
   ]
  }
 ],
 "metadata": {
  "kernelspec": {
   "display_name": "Python 3",
   "language": "python",
   "name": "python3"
  },
  "language_info": {
   "codemirror_mode": {
    "name": "ipython",
    "version": 3
   },
   "file_extension": ".py",
   "mimetype": "text/x-python",
   "name": "python",
   "nbconvert_exporter": "python",
   "pygments_lexer": "ipython3",
   "version": "3.8.20"
  }
 },
 "nbformat": 4,
 "nbformat_minor": 2
}
