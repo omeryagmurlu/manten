{
 "cells": [
  {
   "cell_type": "code",
   "execution_count": 1,
   "metadata": {},
   "outputs": [
    {
     "name": "stdout",
     "output_type": "stream",
     "text": [
      "1 2\n"
     ]
    }
   ],
   "source": [
    "def kek_dict(*, k1, k2):\n",
    "    print(k1, k2)\n",
    "\n",
    "def get_kek_dict():\n",
    "    return {'k1': 1, 'k2': 2}\n",
    "\n",
    "kek_dict(**get_kek_dict())"
   ]
  },
  {
   "cell_type": "code",
   "execution_count": 4,
   "metadata": {},
   "outputs": [
    {
     "name": "stdout",
     "output_type": "stream",
     "text": [
      "1 2\n"
     ]
    }
   ],
   "source": [
    "def kek_tuple(k1, k2):\n",
    "    print(k1, k2)\n",
    "\n",
    "def get_kek_tuple():\n",
    "    return 1, 2\n",
    "\n",
    "kek_tuple(*get_kek_tuple())"
   ]
  },
  {
   "cell_type": "code",
   "execution_count": 6,
   "metadata": {},
   "outputs": [
    {
     "name": "stdout",
     "output_type": "stream",
     "text": [
      "1\n"
     ]
    }
   ],
   "source": [
    "def kek_single_tuple(k):\n",
    "    print(k)\n",
    "\n",
    "def get_kek_single_tuple():\n",
    "    return 1,\n",
    "\n",
    "kek_single_tuple(*get_kek_single_tuple())"
   ]
  },
  {
   "cell_type": "code",
   "execution_count": 6,
   "metadata": {},
   "outputs": [
    {
     "name": "stdout",
     "output_type": "stream",
     "text": [
      "forward: 42\n",
      "42\n",
      "{'kek': 42}\n"
     ]
    }
   ],
   "source": [
    "from abc import ABC, abstractmethod\n",
    "\n",
    "\n",
    "class MetricMixin(ABC):\n",
    "    @abstractmethod\n",
    "    def loss(self, gt, pred):\n",
    "        raise NotImplementedError\n",
    "\n",
    "    @abstractmethod\n",
    "    def metrics(self, gt, pred):\n",
    "        raise NotImplementedError\n",
    "\n",
    "\n",
    "class Base(MetricMixin, ABC):\n",
    "    @abstractmethod\n",
    "    def forward(self, x):\n",
    "        raise NotImplementedError\n",
    "\n",
    "class MetricImpl(MetricMixin):\n",
    "    def loss(self, gt, pred):\n",
    "        return 42\n",
    "\n",
    "    def metrics(self, gt, pred):\n",
    "        return {'kek': 42}\n",
    "\n",
    "class Impl(Base, MetricImpl):\n",
    "    def forward(self, x):\n",
    "        print(f\"forward: {x}\")\n",
    "\n",
    "a = Impl()\n",
    "a.forward(42)\n",
    "print(a.loss(42, 42))\n",
    "print(a.metrics(42, 42))"
   ]
  },
  {
   "cell_type": "code",
   "execution_count": 17,
   "metadata": {},
   "outputs": [
    {
     "name": "stdout",
     "output_type": "stream",
     "text": [
      "None\n",
      "(5, 430)\n",
      "got_this: test\n",
      "None\n"
     ]
    }
   ],
   "source": [
    "def gen(x):\n",
    "    yield  # for the accumulator\n",
    "\n",
    "    got_this = yield 5, x*10\n",
    "\n",
    "    print(f\"got_this: {got_this}\")\n",
    "    yield\n",
    "\n",
    "a = gen(43)\n",
    "print(a.send(None))\n",
    "print(a.send(None))\n",
    "print(a.send(\"test\"))"
   ]
  },
  {
   "cell_type": "code",
   "execution_count": 4,
   "metadata": {},
   "outputs": [
    {
     "name": "stdout",
     "output_type": "stream",
     "text": [
      "root:\n",
      "  blob1:\n",
      "    _kek_: 1\n",
      "    lol: 2\n",
      "    nested:\n",
      "      n1: 1\n",
      "      n2: 2\n",
      "      thisisonlytruein1: true\n",
      "    thisisonlytruein2: false\n",
      "  blob2:\n",
      "    _kek_: 1\n",
      "    lol: 2\n",
      "    nested:\n",
      "      n1: 1\n",
      "      n2: 2\n",
      "      thisisonlytruein1: false\n",
      "    thisisonlytruein2: true\n",
      "\n"
     ]
    }
   ],
   "source": [
    "from omegaconf import OmegaConf\n",
    "\n",
    "# Assuming you have a YAML file named 'config.yaml'\n",
    "yaml_file_path = 'test.yaml'\n",
    "\n",
    "# Load the YAML file\n",
    "config = OmegaConf.load(yaml_file_path)\n",
    "\n",
    "# Print the configuration\n",
    "print(OmegaConf.to_yaml(config))"
   ]
  }
 ],
 "metadata": {
  "kernelspec": {
   "display_name": "Python 3",
   "language": "python",
   "name": "python3"
  },
  "language_info": {
   "codemirror_mode": {
    "name": "ipython",
    "version": 3
   },
   "file_extension": ".py",
   "mimetype": "text/x-python",
   "name": "python",
   "nbconvert_exporter": "python",
   "pygments_lexer": "ipython3",
   "version": "3.10.15"
  }
 },
 "nbformat": 4,
 "nbformat_minor": 2
}
