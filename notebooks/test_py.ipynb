{
 "cells": [
  {
   "cell_type": "code",
   "execution_count": null,
   "metadata": {},
   "outputs": [],
   "source": [
    "# ruff: noqa"
   ]
  },
  {
   "cell_type": "code",
   "execution_count": null,
   "metadata": {},
   "outputs": [],
   "source": [
    "def kek_dict(*, k1, k2):\n",
    "    print(k1, k2)\n",
    "\n",
    "\n",
    "def get_kek_dict():\n",
    "    return {\"k1\": 1, \"k2\": 2}\n",
    "\n",
    "\n",
    "kek_dict(**get_kek_dict())"
   ]
  },
  {
   "cell_type": "code",
   "execution_count": null,
   "metadata": {},
   "outputs": [],
   "source": [
    "def kek_tuple(k1, k2):\n",
    "    print(k1, k2)\n",
    "\n",
    "\n",
    "def get_kek_tuple():\n",
    "    return 1, 2\n",
    "\n",
    "\n",
    "kek_tuple(*get_kek_tuple())"
   ]
  },
  {
   "cell_type": "code",
   "execution_count": null,
   "metadata": {},
   "outputs": [],
   "source": [
    "def kek_single_tuple(k):\n",
    "    print(k)\n",
    "\n",
    "\n",
    "def get_kek_single_tuple():\n",
    "    return (1,)\n",
    "\n",
    "\n",
    "kek_single_tuple(*get_kek_single_tuple())"
   ]
  },
  {
   "cell_type": "code",
   "execution_count": null,
   "metadata": {},
   "outputs": [],
   "source": [
    "from abc import ABC, abstractmethod\n",
    "\n",
    "\n",
    "class MetricMixin(ABC):\n",
    "    @abstractmethod\n",
    "    def loss(self, gt, pred):\n",
    "        raise NotImplementedError\n",
    "\n",
    "    @abstractmethod\n",
    "    def metrics(self, gt, pred):\n",
    "        raise NotImplementedError\n",
    "\n",
    "\n",
    "class Base(MetricMixin, ABC):\n",
    "    @abstractmethod\n",
    "    def forward(self, x):\n",
    "        raise NotImplementedError\n",
    "\n",
    "\n",
    "class MetricImpl(MetricMixin):\n",
    "    def loss(self, _gt, _pred):\n",
    "        return 42\n",
    "\n",
    "    def metrics(self, _gt, _pred):\n",
    "        return {\"kek\": 42}\n",
    "\n",
    "\n",
    "class Impl(Base, MetricImpl):\n",
    "    def forward(self, x):\n",
    "        print(f\"forward: {x}\")\n",
    "\n",
    "\n",
    "a = Impl()\n",
    "a.forward(42)\n",
    "print(a.loss(42, 42))\n",
    "print(a.metrics(42, 42))"
   ]
  },
  {
   "cell_type": "code",
   "execution_count": null,
   "metadata": {},
   "outputs": [],
   "source": [
    "def gen(x):\n",
    "    yield  # for the accumulator\n",
    "\n",
    "    got_this = yield 5, x * 10\n",
    "\n",
    "    print(f\"got_this: {got_this}\")\n",
    "    yield\n",
    "\n",
    "\n",
    "a = gen(43)\n",
    "print(a.send(None))\n",
    "print(a.send(None))\n",
    "print(a.send(\"test\"))"
   ]
  },
  {
   "cell_type": "code",
   "execution_count": null,
   "metadata": {},
   "outputs": [],
   "source": [
    "from omegaconf import OmegaConf\n",
    "\n",
    "# Assuming you have a YAML file named 'config.yaml'\n",
    "yaml_file_path = \"test.yaml\"\n",
    "\n",
    "# Load the YAML file\n",
    "config = OmegaConf.load(yaml_file_path)\n",
    "\n",
    "# Print the configuration\n",
    "print(OmegaConf.to_yaml(config))"
   ]
  },
  {
   "cell_type": "code",
   "execution_count": null,
   "metadata": {},
   "outputs": [],
   "source": [
    "# does python hoist?\n",
    "def a():\n",
    "    def aa():\n",
    "        print(b)\n",
    "\n",
    "    b = \"yes\"\n",
    "\n",
    "    aa()\n",
    "\n",
    "\n",
    "a()"
   ]
  },
  {
   "cell_type": "code",
   "execution_count": null,
   "metadata": {},
   "outputs": [],
   "source": [
    "print({\"a\": 1}.concat(dict(b=2)))  # noqa: C408"
   ]
  },
  {
   "cell_type": "code",
   "execution_count": null,
   "metadata": {},
   "outputs": [],
   "source": [
    "import math\n",
    "\n",
    "int(math.inf)"
   ]
  },
  {
   "cell_type": "code",
   "execution_count": null,
   "metadata": {},
   "outputs": [],
   "source": [
    "from dataclasses import dataclass, field\n",
    "\n",
    "\n",
    "@dataclass\n",
    "class nm:\n",
    "    a: int = field(default=10)\n",
    "    b: int = field(default=20)\n",
    "\n",
    "\n",
    "t = nm()\n",
    "\n",
    "print(t.a, t.b)\n",
    "\n",
    "t.a = 30\n",
    "\n",
    "for t.a in range(t.a, 40):\n",
    "    print(t.a)"
   ]
  },
  {
   "cell_type": "code",
   "execution_count": null,
   "metadata": {},
   "outputs": [],
   "source": [
    "def with_excited_speech(method):\n",
    "    def wrapper(*args, **kwargs):\n",
    "        return \"!\" + method(*args, **kwargs) + \"!\"\n",
    "\n",
    "    return wrapper\n",
    "\n",
    "\n",
    "class Base:\n",
    "    @with_excited_speech\n",
    "    def say(self):\n",
    "        return \"base\"\n",
    "\n",
    "\n",
    "class Animal(Base):\n",
    "    def say(self):\n",
    "        return \"animal\"\n",
    "\n",
    "\n",
    "b = Base()\n",
    "print(b.say())\n",
    "a = Animal()\n",
    "print(a.say())"
   ]
  },
  {
   "cell_type": "code",
   "execution_count": null,
   "metadata": {},
   "outputs": [],
   "source": [
    "items = {\"a\": 2}\n",
    "\n",
    "for i in range(items[\"a\"], 10):\n",
    "    print(items[\"a\"])"
   ]
  }
 ],
 "metadata": {
  "kernelspec": {
   "display_name": "Python 3",
   "language": "python",
   "name": "python3"
  },
  "language_info": {
   "codemirror_mode": {
    "name": "ipython",
    "version": 3
   },
   "file_extension": ".py",
   "mimetype": "text/x-python",
   "name": "python",
   "nbconvert_exporter": "python",
   "pygments_lexer": "ipython3",
   "version": "3.10.14"
  }
 },
 "nbformat": 4,
 "nbformat_minor": 2
}
