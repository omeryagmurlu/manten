{
 "cells": [
  {
   "cell_type": "code",
   "execution_count": null,
   "metadata": {},
   "outputs": [],
   "source": [
    "from manten.data.dataset_maniskill import ManiSkillDataset\n",
    "\n",
    "# Assuming the variables are defined somewhere in your code\n",
    "\n",
    "dataset = ManiSkillDataset(\n",
    "    simulated_length=10000000,\n",
    "    test_ratio=0.05,\n",
    "    task=\"PickCube-v1\",\n",
    "    pack_root=\"/home/i53/student/yagmurlu/code/manten/data/maniskill2/packed_demos\",\n",
    "    obs_horizon=2,\n",
    "    pred_horizon=16,\n",
    "    obs_mode=\"rgb\",\n",
    "    state_modality_keys=[\"goal_pos\"],\n",
    "    rgb_modality_keys=[\"camera1\"],\n",
    "    control_mode=\"pd_ee_delta_pose\",\n",
    "    use_mmap=True,\n",
    "    load_count=35,\n",
    "    # use_mmap=False,\n",
    ")"
   ]
  },
  {
   "cell_type": "code",
   "execution_count": null,
   "metadata": {},
   "outputs": [],
   "source": [
    "from torch.utils.data import DataLoader\n",
    "\n",
    "nw = 0\n",
    "# nw = 0\n",
    "\n",
    "# Create a DataLoader with the given dataset\n",
    "dataloader = DataLoader(dataset, batch_size=32, shuffle=False, num_workers=nw)"
   ]
  },
  {
   "cell_type": "code",
   "execution_count": null,
   "metadata": {},
   "outputs": [],
   "source": [
    "from tqdm.auto import tqdm\n",
    "\n",
    "for _, batch in enumerate(tqdm(dataloader)):\n",
    "    print(batch)\n",
    "    break\n",
    "    # batch['observations']['pcd_obs'].to('cuda')\n",
    "    # pass"
   ]
  },
  {
   "cell_type": "markdown",
   "metadata": {},
   "source": [
    "# TensorDict Test"
   ]
  },
  {
   "cell_type": "code",
   "execution_count": null,
   "metadata": {},
   "outputs": [],
   "source": [
    "import tensordict as td\n",
    "\n",
    "it = iter(dataloader)\n",
    "sample = td.TensorDict(next(it), batch_size=(32,))\n",
    "sample"
   ]
  },
  {
   "cell_type": "code",
   "execution_count": null,
   "metadata": {},
   "outputs": [],
   "source": [
    "import einops\n",
    "\n",
    "display(sample[\"observations\", \"rgb_obs\"].shape)\n",
    "\n",
    "einops.rearrange(sample[\"observations\", \"rgb_obs\"], \"b cam ... -> (b cam) ...\").shape"
   ]
  },
  {
   "cell_type": "code",
   "execution_count": null,
   "metadata": {},
   "outputs": [],
   "source": [
    "display(sample)\n",
    "\n",
    "display(sample[\"observations\"].flatten(0, 1))\n",
    "\n",
    "sample.flatten(0, 1)\n",
    "\n",
    "# fazit, tensordict is pretty dangerous as it is, I would expect the\n",
    "# last one to error out bc actions/observations shape conflict, right\n",
    "# now using it is just asking for phantom bugs\n",
    "# I'll still use it but in isolated places"
   ]
  },
  {
   "cell_type": "markdown",
   "metadata": {},
   "source": [
    "# New S"
   ]
  },
  {
   "cell_type": "code",
   "execution_count": null,
   "metadata": {},
   "outputs": [],
   "source": [
    "it = iter(dataloader)\n",
    "sample = next(it)"
   ]
  },
  {
   "cell_type": "code",
   "execution_count": null,
   "metadata": {},
   "outputs": [],
   "source": [
    "import optree\n",
    "\n",
    "\n",
    "def sh(ten):\n",
    "    display(optree.tree_map(lambda x: x.shape, ten))\n",
    "\n",
    "\n",
    "sh(sample)"
   ]
  }
 ],
 "metadata": {
  "kernelspec": {
   "display_name": "Python 3",
   "language": "python",
   "name": "python3"
  },
  "language_info": {
   "codemirror_mode": {
    "name": "ipython",
    "version": 3
   },
   "file_extension": ".py",
   "mimetype": "text/x-python",
   "name": "python",
   "nbconvert_exporter": "python",
   "pygments_lexer": "ipython3",
   "version": "3.10.14"
  }
 },
 "nbformat": 4,
 "nbformat_minor": 2
}
