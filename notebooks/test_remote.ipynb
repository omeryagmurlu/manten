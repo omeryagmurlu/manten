{
 "cells": [
  {
   "cell_type": "code",
   "execution_count": null,
   "metadata": {},
   "outputs": [],
   "source": [
    "from manten_evaluation.agent_proxy_client import AgentProxyClient\n",
    "\n",
    "model = AgentProxyClient()"
   ]
  },
  {
   "cell_type": "code",
   "execution_count": null,
   "metadata": {},
   "outputs": [],
   "source": [
    "# ruff: noqa\n",
    "\n",
    "import pyhash\n",
    "from optree import tree_map\n",
    "\n",
    "hasher = pyhash.fnv1_64()\n",
    "teha = lambda y: tree_map(lambda x: hasher(str(x.tolist())), y)\n",
    "\n",
    "import pickle\n",
    "\n",
    "obs = pickle.loads(obs_pickle)  # noqa: S301"
   ]
  },
  {
   "cell_type": "code",
   "execution_count": null,
   "metadata": {},
   "outputs": [],
   "source": [
    "model.reset()\n",
    "goal = {\"lang_text\": \"go push the blue block right\"}\n",
    "act = model(obs, goal)\n",
    "display(act)\n",
    "display(teha(obs))\n",
    "display(teha(act))"
   ]
  },
  {
   "cell_type": "code",
   "execution_count": null,
   "metadata": {},
   "outputs": [],
   "source": [
    "for _ in range(30):\n",
    "    act = model(obs, goal)\n",
    "display(teha(act))"
   ]
  },
  {
   "cell_type": "markdown",
   "metadata": {},
   "source": [
    "# results\n",
    "\n",
    "so, using agent directly doesn't result in any problems.."
   ]
  }
 ],
 "metadata": {
  "kernelspec": {
   "display_name": "Python 3",
   "language": "python",
   "name": "python3"
  },
  "language_info": {
   "codemirror_mode": {
    "name": "ipython",
    "version": 3
   },
   "file_extension": ".py",
   "mimetype": "text/x-python",
   "name": "python",
   "nbconvert_exporter": "python",
   "pygments_lexer": "ipython3",
   "version": "3.8.20"
  }
 },
 "nbformat": 4,
 "nbformat_minor": 2
}
