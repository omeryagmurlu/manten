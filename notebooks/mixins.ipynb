{
 "cells": [
  {
   "cell_type": "code",
   "execution_count": null,
   "metadata": {},
   "outputs": [],
   "source": [
    "# ruff: noqa"
   ]
  },
  {
   "cell_type": "code",
   "execution_count": null,
   "metadata": {},
   "outputs": [],
   "source": [
    "from abc import ABC\n",
    "\n",
    "\n",
    "class CommonClassThatBreaksTheChain:\n",
    "    def __init__(self):\n",
    "        print(\"CommonClassThatBreaksTheChain\")\n",
    "\n",
    "\n",
    "class BaseAgent:\n",
    "    def __init__(self):\n",
    "        print(\"BaseAgent-pre\")\n",
    "        super().__init__()\n",
    "        print(\"BaseAgent\")\n",
    "\n",
    "\n",
    "class Mix1(BaseAgent, ABC):\n",
    "    def __init__(self):\n",
    "        print(\"Mix1-pre\")\n",
    "        super().__init__()\n",
    "        print(\"Mix1\")\n",
    "\n",
    "\n",
    "class Mix2:\n",
    "    def __init__(self):\n",
    "        print(\"Mix2-pre\")\n",
    "        super().__init__()\n",
    "        print(\"Mix2\")\n",
    "\n",
    "\n",
    "class PreTemplateInit:\n",
    "    def __init__(self):\n",
    "        print(\"PreTemplateInit-pre\")\n",
    "        super().__init__()\n",
    "        print(\"PreTemplateInit\")\n",
    "\n",
    "\n",
    "class Template(PreTemplateInit, BaseAgent):\n",
    "    def __init__(self):\n",
    "        print(\"Template-pre\")\n",
    "        super().__init__()\n",
    "        print(\"Template\")\n",
    "\n",
    "\n",
    "class AgentWithTmpl(Template, BaseAgent, ABC):\n",
    "    def __init__(self):\n",
    "        print(\"AgentWithTmpl-pre\")\n",
    "        super().__init__()\n",
    "        print(\"AgentWithTmpl\")\n",
    "\n",
    "\n",
    "AgentWithTmpl()\n",
    "\n",
    "AgentWithTmpl.mro()"
   ]
  },
  {
   "cell_type": "code",
   "execution_count": null,
   "metadata": {},
   "outputs": [],
   "source": [
    "class Parent:\n",
    "    def __init__(self):\n",
    "        print(\"Parent-pre\")\n",
    "        super().__init__()\n",
    "        print(\"Parent\")\n",
    "\n",
    "\n",
    "class Mix2(Parent):\n",
    "    def __init__(self):\n",
    "        print(\"Mix2-pre\")\n",
    "        super().__init__()\n",
    "        print(\"Mix2\")\n",
    "\n",
    "\n",
    "class Child(Mix2, Parent):\n",
    "    def __init__(self):\n",
    "        print(\"Child-pre\")\n",
    "        super().__init__()\n",
    "        print(\"Child\")\n",
    "\n",
    "\n",
    "Child()"
   ]
  }
 ],
 "metadata": {
  "kernelspec": {
   "display_name": "Python 3",
   "language": "python",
   "name": "python3"
  },
  "language_info": {
   "codemirror_mode": {
    "name": "ipython",
    "version": 3
   },
   "file_extension": ".py",
   "mimetype": "text/x-python",
   "name": "python",
   "nbconvert_exporter": "python",
   "pygments_lexer": "ipython3",
   "version": "3.10.14"
  }
 },
 "nbformat": 4,
 "nbformat_minor": 2
}
