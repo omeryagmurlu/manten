{
 "cells": [
  {
   "cell_type": "code",
   "execution_count": null,
   "metadata": {},
   "outputs": [],
   "source": [
    "import numpy as np\n",
    "import torch\n",
    "\n",
    "small = torch.randn(180, 3).cpu().numpy()\n",
    "medium = torch.randn(180, 30).cpu().numpy()\n",
    "large = torch.randn(180, 2, 128, 128, 3).cpu().numpy()\n",
    "\n",
    "print(\"small: \", small.nbytes)\n",
    "print(\"medium: \", medium.nbytes)\n",
    "print(\"large: \", large.nbytes)"
   ]
  },
  {
   "cell_type": "code",
   "execution_count": null,
   "metadata": {},
   "outputs": [],
   "source": [
    "one_mb = 1024 * 1024\n",
    "\n",
    "print(\"small: \", small.nbytes / one_mb)\n",
    "print(\"medium: \", medium.nbytes / one_mb)\n",
    "print(\"large: \", large.nbytes / one_mb)"
   ]
  },
  {
   "cell_type": "code",
   "execution_count": null,
   "metadata": {},
   "outputs": [],
   "source": [
    "print(\"small shardsize: \", min(180, np.ceil(180 / (small.nbytes / one_mb)).astype(int)))\n",
    "print(\"medium shardsize: \", min(180, np.ceil(180 / (medium.nbytes / one_mb)).astype(int)))\n",
    "print(\"large shardsize: \", min(180, np.ceil(180 / (large.nbytes / one_mb)).astype(int)))"
   ]
  }
 ],
 "metadata": {
  "kernelspec": {
   "display_name": "Python 3",
   "language": "python",
   "name": "python3"
  },
  "language_info": {
   "codemirror_mode": {
    "name": "ipython",
    "version": 3
   },
   "file_extension": ".py",
   "mimetype": "text/x-python",
   "name": "python",
   "nbconvert_exporter": "python",
   "pygments_lexer": "ipython3",
   "version": "3.10.14"
  }
 },
 "nbformat": 4,
 "nbformat_minor": 2
}
