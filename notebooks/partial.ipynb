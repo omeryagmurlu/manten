{
 "cells": [
  {
   "cell_type": "code",
   "execution_count": null,
   "metadata": {},
   "outputs": [],
   "source": [
    "def fn(fi, se):\n",
    "    print(f\"fi, se = {fi}, {se}\")\n",
    "\n",
    "\n",
    "fn(1, 2)"
   ]
  },
  {
   "cell_type": "code",
   "execution_count": null,
   "metadata": {},
   "outputs": [],
   "source": [
    "from functools import partial\n",
    "\n",
    "partial_fn = partial(fn, se=3)\n",
    "partial_fn(1)"
   ]
  },
  {
   "cell_type": "code",
   "execution_count": null,
   "metadata": {},
   "outputs": [],
   "source": [
    "partial(fn, 1, 2)"
   ]
  },
  {
   "cell_type": "code",
   "execution_count": null,
   "metadata": {},
   "outputs": [],
   "source": [
    "partial(fn, 1, 2)()"
   ]
  },
  {
   "cell_type": "code",
   "execution_count": null,
   "metadata": {},
   "outputs": [],
   "source": [
    "import functools\n",
    "\n",
    "\n",
    "def with_partial(func):\n",
    "    @functools.wraps(func)\n",
    "    def partial_func(*args, **kwargs):\n",
    "        return functools.partial(func, *args, **kwargs)\n",
    "\n",
    "    return partial_func\n",
    "\n",
    "\n",
    "@with_partial\n",
    "def fn2(fi, se):\n",
    "    print(f\"2: fi, se = {fi}, {se}\")\n",
    "\n",
    "\n",
    "fn2(se=3)(1)\n",
    "fn2(1)(2)\n",
    "fn2(1, 2)"
   ]
  },
  {
   "cell_type": "code",
   "execution_count": null,
   "metadata": {},
   "outputs": [],
   "source": [
    "def with_partial3(func):\n",
    "    return functools.partial(func)\n",
    "\n",
    "\n",
    "@with_partial3\n",
    "def fn3(fi, se):\n",
    "    print(f\"3: fi, se = {fi}, {se}\")\n",
    "\n",
    "\n",
    "# fn3(se=3)(1)\n",
    "fn3(1, 2)\n",
    "fn3(1)(2)"
   ]
  },
  {
   "cell_type": "code",
   "execution_count": null,
   "metadata": {},
   "outputs": [],
   "source": [
    "def with_partial4(func):\n",
    "    @functools.wraps(func)\n",
    "    def partial_func(*args, **kwargs):\n",
    "        return functools.partial(func)(*args, **kwargs)\n",
    "\n",
    "    return partial_func\n",
    "\n",
    "\n",
    "@with_partial4\n",
    "def fn4(fi, se):\n",
    "    print(f\"4: fi, se = {fi}, {se}\")\n",
    "\n",
    "\n",
    "fn4(1, 2)\n",
    "fn4(1)(2)\n",
    "fn4(se=3)(1)"
   ]
  }
 ],
 "metadata": {
  "kernelspec": {
   "display_name": "Python 3",
   "language": "python",
   "name": "python3"
  },
  "language_info": {
   "codemirror_mode": {
    "name": "ipython",
    "version": 3
   },
   "file_extension": ".py",
   "mimetype": "text/x-python",
   "name": "python",
   "nbconvert_exporter": "python",
   "pygments_lexer": "ipython3",
   "version": "3.10.14"
  }
 },
 "nbformat": 4,
 "nbformat_minor": 2
}
