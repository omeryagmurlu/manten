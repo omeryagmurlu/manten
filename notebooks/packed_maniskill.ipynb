{
 "cells": [
  {
   "cell_type": "code",
   "execution_count": null,
   "metadata": {},
   "outputs": [],
   "source": [
    "# from torch.utils.data import Dataset\n",
    "\n",
    "\n",
    "# class ManiSkillDataset(Dataset):\n",
    "#     def __init__(\n",
    "#         self,\n",
    "#         *,\n",
    "#         pack_root,\n",
    "#         tasks=None,\n",
    "#     ):\n",
    "#         if tasks is None:\n",
    "#             tasks = [\"PegInsertionSide-v1\"]\n",
    "\n",
    "#         paths = [\n",
    "#             {\n",
    "#                 \"treespec\": f\"{pack_root}/{task}/treespec.pkl\",\n",
    "#                 \"traj_lengths\": f\"{pack_root}/{task}/traj_lengths.npy\",\n",
    "#                 \"episode_format\": f\"{pack_root}/{task}/episode_%d.npz\",\n",
    "#             }\n",
    "#             for task in tasks\n",
    "#         ]\n",
    "\n",
    "#     def __len__(self):\n",
    "#         return len(self.data)\n",
    "\n",
    "#     def __getitem__(self, idx):\n",
    "#         return self.data[idx]"
   ]
  }
 ],
 "metadata": {
  "kernelspec": {
   "display_name": "Python 3",
   "language": "python",
   "name": "python3"
  },
  "language_info": {
   "name": "python",
   "version": "3.10.14"
  }
 },
 "nbformat": 4,
 "nbformat_minor": 2
}
