{
 "cells": [
  {
   "cell_type": "code",
   "execution_count": null,
   "metadata": {},
   "outputs": [],
   "source": [
    "import torch\n",
    "from tensordict import TensorDict\n",
    "\n",
    "td = TensorDict(\n",
    "    {\"a\": -torch.ones(3), \"nested\": {\"a\": torch.ones(3), \"b\": torch.zeros(3)}}, batch_size=[3]\n",
    ")\n",
    "\n",
    "\n",
    "def name_filter(name, tensor):\n",
    "    if name == \"a\":\n",
    "        return tensor\n",
    "    return None\n",
    "\n",
    "\n",
    "td.named_apply(name_filter)"
   ]
  },
  {
   "cell_type": "code",
   "execution_count": null,
   "metadata": {},
   "outputs": [],
   "source": [
    "def name_filter(name, *tensors):\n",
    "    if name == \"a\":\n",
    "        r = 0\n",
    "        for tensor in tensors:\n",
    "            r = r + tensor\n",
    "        return r\n",
    "    return None\n",
    "\n",
    "\n",
    "out = td.named_apply(name_filter, td, td)\n",
    "print(out)"
   ]
  },
  {
   "cell_type": "code",
   "execution_count": null,
   "metadata": {},
   "outputs": [],
   "source": [
    "0"
   ]
  }
 ],
 "metadata": {
  "kernelspec": {
   "display_name": "Python 3",
   "language": "python",
   "name": "python3"
  },
  "language_info": {
   "codemirror_mode": {
    "name": "ipython",
    "version": 3
   },
   "file_extension": ".py",
   "mimetype": "text/x-python",
   "name": "python",
   "nbconvert_exporter": "python",
   "pygments_lexer": "ipython3",
   "version": "3.10.14"
  }
 },
 "nbformat": 4,
 "nbformat_minor": 2
}
