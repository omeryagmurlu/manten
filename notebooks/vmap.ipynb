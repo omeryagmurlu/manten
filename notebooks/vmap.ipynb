{
 "cells": [
  {
   "cell_type": "code",
   "execution_count": null,
   "metadata": {},
   "outputs": [],
   "source": [
    "import torch\n",
    "\n",
    "ones = torch.ones(32, 3, 20, 20, device=\"cuda\")\n",
    "ones_perm = ones.permute(1, 2, 3, 0)"
   ]
  },
  {
   "cell_type": "code",
   "execution_count": null,
   "metadata": {},
   "outputs": [],
   "source": [
    "def sum_ts(tensor):\n",
    "    return tensor.sum()\n",
    "\n",
    "\n",
    "def sum_2_ts(tensor1, tensor2):\n",
    "    print(tensor1.shape, tensor2.shape)\n",
    "    return tensor1.sum() + tensor2.sum()\n",
    "\n",
    "\n",
    "def flatten_spatial(tensor):  # c, h, w\n",
    "    print(tensor.shape)\n",
    "    return torch.flatten(tensor, start_dim=1)"
   ]
  },
  {
   "cell_type": "code",
   "execution_count": null,
   "metadata": {},
   "outputs": [],
   "source": [
    "torch.vmap(torch.sum)(ones)"
   ]
  },
  {
   "cell_type": "code",
   "execution_count": null,
   "metadata": {},
   "outputs": [],
   "source": [
    "torch.vmap(torch.sum, in_dims=1)(ones)"
   ]
  },
  {
   "cell_type": "code",
   "execution_count": null,
   "metadata": {},
   "outputs": [],
   "source": [
    "torch.vmap(sum_2_ts)(ones, ones)"
   ]
  },
  {
   "cell_type": "code",
   "execution_count": null,
   "metadata": {},
   "outputs": [],
   "source": [
    "torch.vmap(sum_2_ts, in_dims=(0, 3))(ones, ones_perm)"
   ]
  },
  {
   "cell_type": "code",
   "execution_count": null,
   "metadata": {},
   "outputs": [],
   "source": [
    "# see how in_dims=1 made the c dimension disappear, it was batched over/collapsed/reduced\n",
    "\n",
    "display(a := torch.vmap(flatten_spatial, in_dims=1)(ones))\n",
    "a.shape"
   ]
  },
  {
   "cell_type": "code",
   "execution_count": null,
   "metadata": {},
   "outputs": [],
   "source": [
    "display(a := torch.vmap(flatten_spatial)(ones))\n",
    "a.shape"
   ]
  },
  {
   "cell_type": "code",
   "execution_count": null,
   "metadata": {},
   "outputs": [],
   "source": [
    "display(a := torch.vmap(flatten_spatial, out_dims=1)(ones))\n",
    "a.shape"
   ]
  }
 ],
 "metadata": {
  "kernelspec": {
   "display_name": "Python 3",
   "language": "python",
   "name": "python3"
  },
  "language_info": {
   "codemirror_mode": {
    "name": "ipython",
    "version": 3
   },
   "file_extension": ".py",
   "mimetype": "text/x-python",
   "name": "python",
   "nbconvert_exporter": "python",
   "pygments_lexer": "ipython3",
   "version": "3.10.14"
  }
 },
 "nbformat": 4,
 "nbformat_minor": 2
}
