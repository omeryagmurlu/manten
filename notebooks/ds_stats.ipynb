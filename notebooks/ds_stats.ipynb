{
 "cells": [
  {
   "cell_type": "code",
   "execution_count": null,
   "metadata": {},
   "outputs": [],
   "source": [
    "import hydra\n",
    "import torch\n",
    "from accelerate import PartialState\n",
    "from hydra import compose, initialize\n",
    "from omegaconf import OmegaConf\n",
    "\n",
    "PartialState()\n",
    "\n",
    "with initialize(version_base=None, config_path=\"../configs\", job_name=\"stats_db_ipynb\"):\n",
    "    cfg = compose(config_name=\"train\", overrides=[\"experiment=tdda_3d_baseline\"])\n",
    "\n",
    "cfg.datamodule._training_calvin_data = \"../\" + cfg.datamodule._training_calvin_data  # noqa: SLF001\n",
    "cfg.datamodule._instructions = \"../\" + cfg.datamodule._instructions  # noqa: SLF001\n",
    "\n",
    "ds_cfg = cfg.datamodule.datamodule.train_dataloader.dataset\n",
    "print(OmegaConf.to_yaml(ds_cfg))"
   ]
  },
  {
   "cell_type": "code",
   "execution_count": null,
   "metadata": {},
   "outputs": [],
   "source": [
    "ds = hydra.utils.instantiate(ds_cfg)\n",
    "ds"
   ]
  },
  {
   "cell_type": "code",
   "execution_count": null,
   "metadata": {},
   "outputs": [],
   "source": [
    "from tqdm.auto import tqdm\n",
    "\n",
    "ds_len = len(ds)\n",
    "stat = torch.zeros(2, ds_len, ds[0][\"trajectory\"].shape[-1])\n",
    "for i in tqdm(range(ds_len)):\n",
    "    tj = ds[i][\"trajectory\"]\n",
    "    stat[0, i] = ds[i][\"trajectory\"].amin(dim=[0, 1])\n",
    "    stat[1, i] = ds[i][\"trajectory\"].amax(dim=[0, 1])\n",
    "stats = torch.zeros(2, ds[0][\"trajectory\"].shape[-1])\n",
    "stats[0] = stat[0].amin(dim=0)\n",
    "stats[1] = stat[1].amax(dim=0)\n",
    "\n",
    "stats"
   ]
  },
  {
   "cell_type": "code",
   "execution_count": null,
   "metadata": {},
   "outputs": [],
   "source": [
    "minn = stats.tolist()\n",
    "t_minn = torch.tensor(minn)\n",
    "\n",
    "tt = torch.ones(2, 3)\n",
    "tt[:, :] = t_minn[:, :3]\n",
    "\n",
    "tt"
   ]
  }
 ],
 "metadata": {
  "kernelspec": {
   "display_name": "Python 3",
   "language": "python",
   "name": "python3"
  },
  "language_info": {
   "codemirror_mode": {
    "name": "ipython",
    "version": 3
   },
   "file_extension": ".py",
   "mimetype": "text/x-python",
   "name": "python",
   "nbconvert_exporter": "python",
   "pygments_lexer": "ipython3",
   "version": "3.10.14"
  }
 },
 "nbformat": 4,
 "nbformat_minor": 2
}
