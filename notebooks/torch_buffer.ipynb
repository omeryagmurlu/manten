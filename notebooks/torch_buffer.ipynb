{
 "cells": [
  {
   "cell_type": "code",
   "execution_count": null,
   "metadata": {},
   "outputs": [],
   "source": [
    "import torch\n",
    "\n",
    "\n",
    "class Model(torch.nn.Module):\n",
    "    def __init__(self, constant=None):\n",
    "        super().__init__()\n",
    "        if constant is not None:\n",
    "            self.register_buffer(\"constant\", constant)\n",
    "\n",
    "    def forward(self, _x):\n",
    "        return self.constant\n",
    "\n",
    "\n",
    "model_a = Model(torch.tensor(42.0))\n",
    "state_dict = model_a.state_dict()\n",
    "model_b = Model()\n",
    "model_b.load_state_dict(state_dict)\n",
    "print(model_b.constant)"
   ]
  }
 ],
 "metadata": {
  "kernelspec": {
   "display_name": "Python 3",
   "language": "python",
   "name": "python3"
  },
  "language_info": {
   "codemirror_mode": {
    "name": "ipython",
    "version": 3
   },
   "file_extension": ".py",
   "mimetype": "text/x-python",
   "name": "python",
   "nbconvert_exporter": "python",
   "pygments_lexer": "ipython3",
   "version": "3.10.14"
  }
 },
 "nbformat": 4,
 "nbformat_minor": 2
}
