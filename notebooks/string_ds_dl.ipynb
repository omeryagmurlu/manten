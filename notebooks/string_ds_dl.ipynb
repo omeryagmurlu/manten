{
 "cells": [
  {
   "cell_type": "code",
   "execution_count": null,
   "metadata": {},
   "outputs": [],
   "source": [
    "import random\n",
    "import string\n",
    "\n",
    "import torch\n",
    "from torch.utils.data import Dataset\n",
    "\n",
    "\n",
    "class RandomStringDataset(Dataset):\n",
    "    def __init__(self, length, num_samples):\n",
    "        self.length = length\n",
    "        self.num_samples = num_samples\n",
    "\n",
    "    def __len__(self):\n",
    "        return self.num_samples\n",
    "\n",
    "    def __getitem__(self, idx):\n",
    "        random_string = \"\".join(\n",
    "            random.choices(string.ascii_letters + string.digits, k=self.length)\n",
    "        )\n",
    "        random_tensor = torch.tensor([ord(c) for c in random_string], dtype=torch.long)\n",
    "        return {\"string\": random_string, \"tensor\": random_tensor}\n",
    "\n",
    "\n",
    "# Example usage\n",
    "dataset = RandomStringDataset(length=10, num_samples=100)\n",
    "print(dataset[0])"
   ]
  },
  {
   "cell_type": "code",
   "execution_count": null,
   "metadata": {},
   "outputs": [],
   "source": [
    "from torch.utils.data import DataLoader\n",
    "\n",
    "dataloader = DataLoader(dataset, batch_size=10, shuffle=True)\n",
    "\n",
    "# Example usage\n",
    "for batch in dataloader:\n",
    "    print(batch)"
   ]
  }
 ],
 "metadata": {
  "kernelspec": {
   "display_name": "Python 3",
   "language": "python",
   "name": "python3"
  },
  "language_info": {
   "codemirror_mode": {
    "name": "ipython",
    "version": 3
   },
   "file_extension": ".py",
   "mimetype": "text/x-python",
   "name": "python",
   "nbconvert_exporter": "python",
   "pygments_lexer": "ipython3",
   "version": "3.10.14"
  }
 },
 "nbformat": 4,
 "nbformat_minor": 2
}
