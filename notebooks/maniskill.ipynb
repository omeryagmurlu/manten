{
 "cells": [
  {
   "cell_type": "code",
   "execution_count": null,
   "metadata": {},
   "outputs": [],
   "source": []
  },
  {
   "cell_type": "code",
   "execution_count": null,
   "metadata": {},
   "outputs": [],
   "source": [
    "from pathlib import Path\n",
    "\n",
    "fp = \"/home/i53/student/yagmurlu/code/manten/data/maniskill2/demos/%s/motionplanning/trajectory.%s.%s.cpu.%s\"\n",
    "\n",
    "\n",
    "def get_maniskill_filepath(task, obs, action, ext):\n",
    "    return fp % (task, obs, action, ext)\n",
    "\n",
    "\n",
    "def load_json(filepath):\n",
    "    import json\n",
    "\n",
    "    with Path(filepath).open(\"r\") as f:\n",
    "        return json.load(f)"
   ]
  },
  {
   "cell_type": "code",
   "execution_count": null,
   "metadata": {},
   "outputs": [],
   "source": [
    "import h5py\n",
    "\n",
    "data = h5py.File(\n",
    "    get_maniskill_filepath(\"PegInsertionSide-v1\", \"pointcloud\", \"pd_ee_delta_pose\", \"h5\"), \"r\"\n",
    ")\n",
    "json_data = load_json(\n",
    "    get_maniskill_filepath(\"PegInsertionSide-v1\", \"pointcloud\", \"pd_ee_delta_pose\", \"json\")\n",
    ")"
   ]
  },
  {
   "cell_type": "code",
   "execution_count": null,
   "metadata": {},
   "outputs": [],
   "source": [
    "num_episodes = len(json_data[\"episodes\"])"
   ]
  },
  {
   "cell_type": "code",
   "execution_count": null,
   "metadata": {},
   "outputs": [],
   "source": [
    "def inflate_h5_data(data):\n",
    "    out = {}\n",
    "    for k in data:\n",
    "        if isinstance(data[k], h5py.Dataset):\n",
    "            out[k] = data[k][:]\n",
    "        else:\n",
    "            out[k] = inflate_h5_data(data[k])\n",
    "    return out\n",
    "\n",
    "\n",
    "def load_episode(data, episode_idx):\n",
    "    return inflate_h5_data(data[f\"traj_{episode_idx}\"])"
   ]
  },
  {
   "cell_type": "code",
   "execution_count": null,
   "metadata": {},
   "outputs": [],
   "source": [
    "import numpy as np\n",
    "\n",
    "\n",
    "def pack_episode_into_trajectories(episode_idx, traj_len=20):\n",
    "    episode = load_episode(data, episode_idx)\n",
    "    episode[\"trajectories\"] = []\n",
    "\n",
    "    for i in range(len(episode[\"actions\"])):\n",
    "        chunk = episode[\"actions\"][i + 1 : i + 1 + traj_len]\n",
    "        if len(chunk) < traj_len:\n",
    "            # pad with last zeroes # assuming delta\n",
    "            chunk = np.concatenate([chunk, np.zeros((traj_len - len(chunk), chunk.shape[1]))])\n",
    "        episode[\"trajectories\"].append(chunk)\n",
    "\n",
    "    episode[\"trajectories\"] = np.array(episode[\"trajectories\"])\n",
    "    del episode[\"actions\"]\n",
    "    return episode"
   ]
  }
 ],
 "metadata": {
  "kernelspec": {
   "display_name": "Python 3",
   "language": "python",
   "name": "python3"
  },
  "language_info": {
   "codemirror_mode": {
    "name": "ipython",
    "version": 3
   },
   "file_extension": ".py",
   "mimetype": "text/x-python",
   "name": "python",
   "nbconvert_exporter": "python",
   "pygments_lexer": "ipython3",
   "version": "3.10.14"
  }
 },
 "nbformat": 4,
 "nbformat_minor": 2
}
